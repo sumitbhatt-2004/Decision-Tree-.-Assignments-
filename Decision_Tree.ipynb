{
  "nbformat": 4,
  "nbformat_minor": 0,
  "metadata": {
    "colab": {
      "provenance": []
    },
    "kernelspec": {
      "name": "python3",
      "display_name": "Python 3"
    },
    "language_info": {
      "name": "python"
    }
  },
  "cells": [
    {
      "cell_type": "markdown",
      "source": [
        "Theoretical question :"
      ],
      "metadata": {
        "id": "jl0b_nlrtX6e"
      }
    },
    {
      "cell_type": "markdown",
      "source": [
        "Question 1. What is a Decision Tree, and how does it work?\n",
        "\n",
        "Solution : A Decision Tree is a type of supervised machine learning algorithm used for both classification and regression tasks. It works by learning decision rules from features to predict the value of a target variable.\n",
        "\n",
        "    *   The tree consists of nodes and branches. The topmost node is called the `root node`.\n",
        "    *   Each `internal node` represents a test on an attribute (feature).\n",
        "    *   Each `branch` represents the outcome of the test.\n",
        "    *   Each `leaf node` represents a class label (decision) after all attributes have been considered.\n",
        "    *   The algorithm starts at the root node and recursively splits the data based on the feature that best separates the data according to the target variable. The selection of the best feature is determined using impurity measures like Gini impurity or entropy. This process continues until a stopping criterion is met, such as reaching a maximum depth or when a node contains only one\n",
        "    \n",
        "Question 2. What are impurity measures in Decision Trees?\n",
        "\n",
        "Solution : Impurity measures are used to evaluate the homogeneity of data samples in a node. They help determine the best feature to split the data at each node. Common impurity measures include Gini impurity and entropy.\n",
        "\n",
        "Impurity measures quantify the degree to which a set of data points are not of the same class. A lower impurity score indicates a more homogeneous group, while a higher score indicates a more heterogeneous group. Decision Trees use these measures to decide which attribute to split on at each node, aiming to create subsets that are as pure as possible.\n",
        "\n",
        "Question  3. What is the mathematical formula for Gini Impurity?\n",
        "\n",
        "Solution : Gini Impurity measures the probability of misclassifying a randomly chosen element from the set if it were randomly labeled according to the class distribution in the set.\n",
        "\n",
        "*   **Formula:**\n",
        "\n",
        "    $$Gini(E) = 1 - \\sum_{i=1}^{c} P_i^2$$\n",
        "\n",
        "    where:\n",
        "\n",
        "    *   `Gini(E)` is the Gini Impurity of the dataset `E`.\n",
        "    *   `c` is the number of classes.\n",
        "    *   $$P_i$$ is the proportion of elements of class `i` in the dataset `E`.\n",
        "*   **Simple Explanation**: Gini Impurity calculates how likely you are to misclassify an element in a dataset. It ranges from 0 (perfectly pure) to 0.5 (equally distributed classes).\n",
        "*   **Detailed Explanation**: The Gini Impurity is calculated by summing the squared probabilities of each class within a node and subtracting the result from 1. A Gini Impurity of 0 means all elements in the node belong to the same class, indicating a pure node. A higher Gini Impurity indicates a mixed node, where elements are distributed across multiple classes.\n",
        "\n",
        "Question  4. What is the mathematical formula for Entropy?\n",
        "\n",
        "Solution : Entropy measures the amount of disorder or uncertainty in a set of data. In the context of Decision Trees, it quantifies the impurity of a node.\n",
        "\n",
        "*   **Formula:**\n",
        "\n",
        "    $$Entropy(E) = -\\sum_{i=1}^{c} P_i * log_2(P_i)$$\n",
        "\n",
        "    where:\n",
        "\n",
        "    *   `Entropy(E)` is the entropy of the dataset `E`.\n",
        "    *   `c` is the number of classes.\n",
        "    *   $$P_i$$ is the proportion of elements of class `i` in the dataset `E`.\n",
        "*   **Simple Explanation**: Entropy measures how unpredictable the class distribution is in a dataset. A high entropy value means the classes are mixed, and it's hard to predict the outcome. A low entropy value means the classes are well-separated.\n",
        "*   **Detailed Explanation**: Entropy is calculated by summing the product of the probability of each class and the logarithm (base 2) of that probability, then negating the result. A higher entropy value indicates more disorder or uncertainty, while a lower value indicates less uncertainty. In Decision Trees, the goal is to reduce entropy at each split, leading to more homogeneous child nodes.\n",
        "\n",
        "Question  5. What is Information Gain, and how is it used in Decision Trees?\n",
        "\n",
        "Solution : Information Gain measures the reduction in entropy after splitting a dataset on an attribute. It is used to determine which attribute provides the most information about the target variable and should be used for splitting.\n",
        "\n",
        "*   **Formula:**\n",
        "\n",
        "    $$InformationGain(E, A) = Entropy(E) - \\sum_{v \\in Values(A)} \\frac{|E_v|}{|E|} * Entropy(E_v)$$\n",
        "\n",
        "    where:\n",
        "\n",
        "    *   `InformationGain(E, A)` is the information gain of dataset `E` after splitting on attribute `A`.\n",
        "    *   `Entropy(E)` is the entropy of the entire dataset `E`.\n",
        "    *   `Values(A)` is the set of all possible values for attribute `A`.\n",
        "    *   $$E_v$$ is the subset of `E` for which attribute `A` has value `v`.\n",
        "    *   $$|E_v|$$ is the number of elements in $$E_v$$.\n",
        "    *   $$|E|$$ is the number of elements in `E`.\n",
        "    *   $$Entropy(E_v)$$ is the entropy of the subset $$E_v$$.\n",
        "\n",
        " Information Gain calculates the difference between the entropy of the parent node and the weighted average entropy of the child nodes after the split. The attribute with the highest information gain is selected as the splitting attribute because it provides the most significant reduction in entropy, leading to more homogeneous child nodes.\n",
        "\n",
        "\n",
        "Question  6. What is the difference between Gini Impurity and Entropy?\n",
        "\n",
        "Solution : Gini Impurity and Entropy are both impurity measures used in Decision Trees, but they differ in their mathematical formulation and computational cost.\n",
        "\n",
        "\n",
        "\n",
        "    *   **Calculation**: Gini Impurity is calculated using squared probabilities, while Entropy uses logarithmic calculations.\n",
        "    *   **Computational Cost**: Gini Impurity is computationally less expensive than Entropy because it avoids the logarithm calculation.\n",
        "    *   **Sensitivity**: Entropy is slightly more sensitive to changes in class probabilities than Gini Impurity.\n",
        "    *   **Usage**: In practice, the choice between Gini Impurity and Entropy often does not significantly impact the performance of the Decision Tree. Gini Impurity is often preferred due to its lower computational cost.          \n",
        "\n",
        "Question 7. What is the mathematical explanation behind Decision Trees?\n",
        "\n",
        "Decision Trees use a greedy algorithm to recursively partition the feature space into regions with similar target values. The algorithm selects the best split at each node based on impurity measures and continues until a stopping criterion is met.\n",
        "\n",
        "    *   **Recursive Partitioning**: The Decision Tree algorithm recursively partitions the data based on the values of the input features. At each internal node, the algorithm selects a feature and a threshold (for numerical features) or a subset of values (for categorical features) to split the data.\n",
        "    *   **Impurity Measures**: The choice of the best feature and threshold is based on impurity measures such as Gini impurity or entropy. The goal is to choose the split that maximizes the reduction in impurity (i.e., maximizes the information gain).\n",
        "    *   **Stopping Criteria**: The recursive partitioning process continues until a stopping criterion is met. Common stopping criteria include:\n",
        "        *   Maximum depth of the tree is reached.\n",
        "        *   Minimum number of samples in a node is reached.\n",
        "        *   Impurity of a node falls below a certain threshold.\n",
        "    *   **Prediction**: To make a prediction for a new data point, the algorithm traverses the tree from the root node to a leaf node, following the branches that correspond to the values of the input features. The prediction is then based on the majority class (for classification) or the average value (for regression) of the data points in the leaf node.\n",
        "\n",
        "Question 8. What is Pre-Pruning in Decision Trees?\n",
        "\n",
        "Solution :  Pre-pruning is like setting rules *before* building the tree to stop it from becoming too complex. This helps prevent the tree from fitting the training data too closely and improves its ability to generalize to new data.\n",
        "\n",
        " Pre-pruning techniques include:\n",
        "    *   **Maximum Depth**: Limiting the maximum depth of the tree.\n",
        "    *   **Minimum Samples per Leaf**: Requiring a minimum number of samples in each leaf node.\n",
        "    *   **Minimum Samples per Split**: Requiring a minimum number of samples in a node before splitting.\n",
        "    *   **Maximum Number of Leaves**: Limiting the maximum number of leaf nodes in the tree.\n",
        "    *   **Significance Test**: Using statistical tests to determine if splitting a node is statistically significant. If the split does not significantly improve the performance, the node is not split.\n",
        "\n",
        "Question 9. What is Post-Pruning in Decision Trees?\n",
        "\n",
        "Solution : Post-pruning involves growing a full Decision Tree and then removing branches or nodes that do not improve the performance on a validation set.\n",
        "\n",
        "Post-pruning is like building the entire tree first and then cutting off the unnecessary branches that don't help with accuracy. This helps simplify the tree and improve its ability to generalize to new data.\n",
        "  \n",
        "\n",
        "Question 10. What is the difference between Pre-Pruning and Post-Pruning?\n",
        "\n",
        "Pre-pruning stops the tree from growing too large during training, while post-pruning allows the tree to grow fully and then removes unnecessary parts.\n",
        "\n",
        "Solution :  Pre-pruning is like preventing a plant from overgrowing by trimming it early, while post-pruning is like letting the plant grow fully and then cutting off the dead or unproductive branches.\n",
        "\n",
        "Question 11. What is a Decision Tree Regressor?\n",
        "\n",
        "A Decision Tree Regressor is a type of Decision Tree used for regression tasks, where the goal is to predict a continuous numerical value.\n",
        "\n",
        "**Splitting Criteria**: Decision Tree Regressors use different splitting criteria than Decision Tree Classifiers. Common criteria include minimizing the mean squared error (MSE) or the mean absolute error (MAE).\n",
        "**Prediction**: To make a prediction for a new data point, the algorithm traverses the tree from the root node to a leaf node, following the branches that correspond to the values of the input features. The prediction is then based on the average value of the target variable for the data points in the leaf node.\n",
        "\n",
        "Question 12. What are the advantages and disadvantages of Decision Trees?\n",
        "\n",
        "Solution : Decision Trees have several advantages and disadvantages that make them suitable for certain types of problems.\n",
        "\n",
        "*   **Advantages:**\n",
        "    *   **Easy to Understand and Interpret**: Decision Trees are easy to visualize and understand, making them useful for explaining decisions to stakeholders.\n",
        "    *   **Handles Both Categorical and Numerical Data**: Decision Trees can handle both categorical and numerical data without requiring extensive preprocessing.\n",
        "    *   **Non-Parametric**: Decision Trees are non-parametric, meaning they do not make assumptions about the underlying distribution of the data.\n",
        "    *   **Feature Importance**: Decision Trees can provide insights into the importance of different features in the data.\n",
        "*   **Disadvantages:**\n",
        "    *   **Overfitting**: Decision Trees are prone to overfitting the training data, especially if they are allowed to grow too deep.\n",
        "    *   **Instability**: Small changes in the data can lead to large changes in the tree structure.\n",
        "    *   **Bias**: Decision Trees can be biased towards features with more levels or categories.\n",
        "    *   **Suboptimal**: Decision Trees make locally optimal decisions at each node, which may not result in the globally optimal tree.\n",
        "\n",
        "Question : 13. How does a Decision Tree handle missing values?\n",
        "\n",
        "solution :\n",
        "\n",
        "Decision Trees can handle missing values in several ways:\n",
        "\n",
        "*   **Ignore Missing Values**: During the splitting process, instances with missing values for the selected attribute are ignored.\n",
        "*   **Imputation**: Missing values can be imputed with the most common value, the mean, or median of the attribute.\n",
        "*   **Surrogate Splits**: Surrogate splits are used to handle missing values during prediction. When a data point has a missing value for the attribute used in a split, the algorithm uses the surrogate split (another attribute that correlates with the original attribute) to make the decision.\n",
        "\n",
        "Question : 14. How does a Decision Tree handle categorical features?\n",
        "\n",
        "Solution : Decision Trees can handle categorical features directly without requiring one-hot encoding, although one-hot encoding can sometimes improve performance.\n",
        "\n",
        "*   **Direct Handling**: For categorical features, the Decision Tree algorithm can create branches for each possible value of the feature.\n",
        "*   **Binary Splits**: Categorical features can be split into two subsets of categories at each node. The algorithm searches for the best binary split that maximizes the information gain or minimizes the impurity.\n",
        "*   **One-Hot Encoding**: Converting categorical features into numerical data using one-hot encoding, especially when dealing with high cardinality categorical features.\n",
        "\n",
        "Question 15. What are some real-world applications of Decision Trees?\n",
        "\n",
        "Solution : Decision Trees are used in a variety of real-world applications:\n",
        "\n",
        "*   **Medical Diagnosis**: To predict the likelihood of a patient having a certain disease based on their symptoms and medical history.\n",
        "*   **Credit Risk Assessment**: To assess the creditworthiness of loan applicants based on their financial history and demographic information.\n",
        "*   **Customer Churn Prediction**: To predict which customers are likely to churn (cancel their subscription) based on their usage patterns and demographic information.\n",
        "*   **Fraud Detection**: To identify fraudulent transactions based on transaction patterns and user behavior.\n",
        "*   **Recommender Systems**: To recommend products or services to users based on their past behavior and preferences.\n",
        "\n",
        "\n"
      ],
      "metadata": {
        "id": "Wgx0Ze8Uth8t"
      }
    },
    {
      "cell_type": "markdown",
      "source": [
        "Pratical Question"
      ],
      "metadata": {
        "id": "zeIDSwAzwdf5"
      }
    },
    {
      "cell_type": "code",
      "execution_count": 7,
      "metadata": {
        "colab": {
          "base_uri": "https://localhost:8080/"
        },
        "id": "WG-EcrywtPbG",
        "outputId": "60ccf708-a82d-4f6c-ead4-944d797bd248"
      },
      "outputs": [
        {
          "output_type": "stream",
          "name": "stdout",
          "text": [
            "Accuracy: 1.0\n"
          ]
        }
      ],
      "source": [
        "## solution :\n",
        "\n",
        "from sklearn.datasets import load_iris\n",
        "from sklearn.model_selection import train_test_split\n",
        "from sklearn.tree import DecisionTreeClassifier\n",
        "from sklearn.metrics import accuracy_score\n",
        "\n",
        "\n",
        " # Load the Iris dataset\n",
        "iris = load_iris()\n",
        "X, y = iris.data, iris.target\n",
        "\n",
        "\n",
        " # Split the dataset into training and testing sets\n",
        "X_train, X_test, y_train, y_test = train_test_split(X, y, test_size=0.3, random_state=42)\n",
        "\n",
        "\n",
        " # Train a Decision Tree Classifier\n",
        "dt_classifier = DecisionTreeClassifier(random_state=42)\n",
        "dt_classifier.fit(X_train, y_train)\n",
        "\n",
        "\n",
        " # Make predictions on the test set\n",
        "y_pred = dt_classifier.predict(X_test)\n",
        "\n",
        "\n",
        " # Calculate the accuracy of the model\n",
        "accuracy = accuracy_score(y_test, y_pred)\n",
        "print(\"Accuracy:\", accuracy)"
      ]
    },
    {
      "cell_type": "code",
      "source": [
        "## solution 2 :\n",
        "\n",
        "from sklearn.datasets import load_iris\n",
        "from sklearn.model_selection import train_test_split\n",
        "from sklearn.tree import DecisionTreeClassifier\n",
        "\n",
        "\n",
        "# Load the Iris dataset\n",
        "iris = load_iris()\n",
        "X, y = iris.data, iris.target\n",
        "\n",
        "\n",
        "# Split the dataset into training and testing sets\n",
        "X_train, X_test, y_train, y_test = train_test_split(X, y, test_size=0.3, random_state=42)\n",
        "\n",
        "\n",
        "# Train a Decision Tree Classifier using Gini impurity\n",
        "dt_classifier = DecisionTreeClassifier(criterion='gini', random_state=42)\n",
        "dt_classifier.fit(X_train, y_train)\n",
        "\n",
        "\n",
        "# Print feature importances\n",
        "print(\"Feature Importances:\", dt_classifier.feature_importances_)"
      ],
      "metadata": {
        "colab": {
          "base_uri": "https://localhost:8080/"
        },
        "id": "E-dqHbGa4VC9",
        "outputId": "2848aba4-7c4f-45fa-89b5-4585df5aa8d6"
      },
      "execution_count": 8,
      "outputs": [
        {
          "output_type": "stream",
          "name": "stdout",
          "text": [
            "Feature Importances: [0.         0.01911002 0.89326355 0.08762643]\n"
          ]
        }
      ]
    },
    {
      "cell_type": "code",
      "source": [
        "## solution 3\n",
        "from sklearn.datasets import load_iris\n",
        "from sklearn.model_selection import train_test_split\n",
        "from sklearn.tree import DecisionTreeClassifier\n",
        "from sklearn.metrics import accuracy_score\n",
        "\n",
        "\n",
        "# Load the Iris dataset\n",
        "iris = load_iris()\n",
        "X, y = iris.data, iris.target\n",
        "\n",
        "\n",
        "# Split the dataset into training and testing sets\n",
        "X_train, X_test, y_train, y_test = train_test_split(X, y, test_size=0.3, random_state=42)\n",
        "\n",
        "\n",
        "# Train a Decision Tree Classifier using entropy\n",
        "dt_classifier = DecisionTreeClassifier(criterion='entropy', random_state=42)\n",
        "dt_classifier.fit(X_train, y_train)\n",
        "\n",
        "\n",
        "# Make predictions on the test set\n",
        "y_pred = dt_classifier.predict(X_test)\n",
        "\n",
        "\n",
        "# Calculate the accuracy of the model\n",
        "accuracy = accuracy_score(y_test, y_pred)\n",
        "print(\"Accuracy:\", accuracy)"
      ],
      "metadata": {
        "colab": {
          "base_uri": "https://localhost:8080/"
        },
        "id": "qaw0LTQT4v97",
        "outputId": "e449323d-df75-49f1-dbc7-8380736c1dda"
      },
      "execution_count": 10,
      "outputs": [
        {
          "output_type": "stream",
          "name": "stdout",
          "text": [
            "Accuracy: 0.9777777777777777\n"
          ]
        }
      ]
    },
    {
      "cell_type": "code",
      "source": [
        "## solution 4\n",
        "\n",
        "from sklearn.datasets import fetch_california_housing\n",
        "from sklearn.model_selection import train_test_split\n",
        "from sklearn.tree import DecisionTreeRegressor\n",
        "from sklearn.metrics import mean_squared_error\n",
        "\n",
        "\n",
        "# Load the California housing dataset\n",
        "housing = fetch_california_housing()\n",
        "X, y = housing.data, housing.target\n",
        "\n",
        "\n",
        "# Split the dataset into training and testing sets\n",
        "X_train, X_test, y_train, y_test = train_test_split(X, y, test_size=0.3, random_state=42)\n",
        "\n",
        "\n",
        "# Train a Decision Tree Regressor\n",
        "dt_regressor = DecisionTreeRegressor(random_state=42)\n",
        "dt_regressor.fit(X_train, y_train)\n",
        "\n",
        "\n",
        "# Make predictions on the test set\n",
        "y_pred = dt_regressor.predict(X_test)\n",
        "\n",
        "\n",
        "# Calculate the Mean Squared Error (MSE)\n",
        "mse = mean_squared_error(y_test, y_pred)\n",
        "print(\"Mean Squared Error (MSE):\", mse)"
      ],
      "metadata": {
        "colab": {
          "base_uri": "https://localhost:8080/"
        },
        "id": "1ggQlkE847sn",
        "outputId": "7bda1e45-b602-4077-a9ec-faef265ff137"
      },
      "execution_count": 12,
      "outputs": [
        {
          "output_type": "stream",
          "name": "stdout",
          "text": [
            "Mean Squared Error (MSE): 0.5280096503174904\n"
          ]
        }
      ]
    },
    {
      "cell_type": "code",
      "source": [
        "## solution 5 :\n",
        "from sklearn.datasets import load_iris\n",
        "from sklearn.model_selection import train_test_split\n",
        "from sklearn.tree import DecisionTreeClassifier, export_graphviz\n",
        "import graphviz\n",
        "\n",
        "\n",
        "# Load the Iris dataset\n",
        "iris = load_iris()\n",
        "X, y = iris.data, iris.target\n",
        "\n",
        "\n",
        "# Split the dataset into training and testing sets\n",
        "X_train, X_test, y_train, y_test = train_test_split(X, y, test_size=0.3, random_state=42)\n",
        "\n",
        "\n",
        "# Train a Decision Tree Classifier\n",
        "dt_classifier = DecisionTreeClassifier(random_state=42)\n",
        "dt_classifier.fit(X_train, y_train)\n",
        "\n",
        "\n",
        "# Export the decision tree to a Graphviz dot file\n",
        "dot_data = export_graphviz(\n",
        " dt_classifier,\n",
        " out_file=None,\n",
        " feature_names=iris.feature_names,\n",
        " class_names=iris.target_names,\n",
        " filled=True,\n",
        " rounded=True,\n",
        " special_characters=True,\n",
        ")\n",
        "\n",
        "\n",
        "# Create a graph from the dot data\n",
        "graph = graphviz.Source(dot_data)\n",
        "\n",
        "\n",
        "# Render the graph to a PDF file (or display it)\n",
        "graph.render(\"iris_decision_tree\", view=True)"
      ],
      "metadata": {
        "colab": {
          "base_uri": "https://localhost:8080/",
          "height": 36
        },
        "id": "KOn9QSJT5NlY",
        "outputId": "a2815c60-36b9-4af3-eb0c-448c56b8c136"
      },
      "execution_count": 13,
      "outputs": [
        {
          "output_type": "execute_result",
          "data": {
            "text/plain": [
              "'iris_decision_tree.pdf'"
            ],
            "application/vnd.google.colaboratory.intrinsic+json": {
              "type": "string"
            }
          },
          "metadata": {},
          "execution_count": 13
        }
      ]
    },
    {
      "cell_type": "code",
      "source": [
        "## solution 6\n",
        "from sklearn.datasets import load_iris\n",
        "from sklearn.model_selection import train_test_split\n",
        "from sklearn.tree import DecisionTreeClassifier\n",
        "from sklearn.metrics import accuracy_score\n",
        "\n",
        "\n",
        "# Load the Iris dataset\n",
        "iris = load_iris()\n",
        "X, y = iris.data, iris.target\n",
        "\n",
        "\n",
        "# Split the dataset into training and testing sets\n",
        "X_train, X_test, y_train, y_test = train_test_split(X, y, test_size=0.3, random_state=42)\n",
        "\n",
        "\n",
        "# Train a Decision Tree Classifier with max_depth=3\n",
        "dt_classifier_depth3 = DecisionTreeClassifier(max_depth=3, random_state=42)\n",
        "dt_classifier_depth3.fit(X_train, y_train)\n",
        "\n",
        "\n",
        "# Train a fully grown Decision Tree Classifier\n",
        "dt_classifier_full = DecisionTreeClassifier(random_state=42)\n",
        "dt_classifier_full.fit(X_train, y_train)\n",
        "\n",
        "\n",
        "# Make predictions on the test set\n",
        "y_pred_depth3 = dt_classifier_depth3.predict(X_test)\n",
        "y_pred_full = dt_classifier_full.predict(X_test)\n",
        "\n",
        "\n",
        "# Calculate the accuracy of the models\n",
        "accuracy_depth3 = accuracy_score(y_test, y_pred_depth3)\n",
        "accuracy_full = accuracy_score(y_test, y_pred_full)\n",
        "\n",
        "\n",
        "print(\"Accuracy with max_depth=3:\", accuracy_depth3)\n",
        "print(\"Accuracy with fully grown tree:\", accuracy_full)"
      ],
      "metadata": {
        "colab": {
          "base_uri": "https://localhost:8080/"
        },
        "id": "38d75rmG5jTQ",
        "outputId": "6652d5ae-b906-401e-97bb-6aa850bf0263"
      },
      "execution_count": 14,
      "outputs": [
        {
          "output_type": "stream",
          "name": "stdout",
          "text": [
            "Accuracy with max_depth=3: 1.0\n",
            "Accuracy with fully grown tree: 1.0\n"
          ]
        }
      ]
    },
    {
      "cell_type": "code",
      "source": [
        "## solution 7\n",
        "from sklearn.datasets import load_iris\n",
        "from sklearn.model_selection import train_test_split\n",
        "from sklearn.tree import DecisionTreeClassifier\n",
        "from sklearn.metrics import accuracy_score\n",
        "\n",
        "\n",
        "# Load the Iris dataset\n",
        "iris = load_iris()\n",
        "X, y = iris.data, iris.target\n",
        "\n",
        "\n",
        "# Split the dataset into training and testing sets\n",
        "X_train, X_test, y_train, y_test = train_test_split(X, y, test_size=0.3, random_state=42)\n",
        "\n",
        "\n",
        "# Train a Decision Tree Classifier with min_samples_split=5\n",
        "dt_classifier_min_samples = DecisionTreeClassifier(min_samples_split=5, random_state=42)\n",
        "dt_classifier_min_samples.fit(X_train, y_train)\n",
        "\n",
        "\n",
        "# Train a Decision Tree Classifier with default parameters\n",
        "dt_classifier_default = DecisionTreeClassifier(random_state=42)\n",
        "dt_classifier_default.fit(X_train, y_train)\n",
        "\n",
        "\n",
        "# Make predictions on the test set\n",
        "y_pred_min_samples = dt_classifier_min_samples.predict(X_test)\n",
        "y_pred_default = dt_classifier_default.predict(X_test)\n",
        "\n",
        "\n",
        "# Calculate the accuracy of the models\n",
        "accuracy_min_samples = accuracy_score(y_test, y_pred_min_samples)\n",
        "accuracy_default = accuracy_score(y_test, y_pred_default)\n",
        "\n",
        "\n",
        "print(\"Accuracy with min_samples_split=5:\", accuracy_min_samples)\n",
        "print(\"Accuracy with default tree:\", accuracy_default)"
      ],
      "metadata": {
        "colab": {
          "base_uri": "https://localhost:8080/"
        },
        "id": "iUmV46JU6DQu",
        "outputId": "b4b635b6-c45c-4c79-f11b-25b980b9dd8c"
      },
      "execution_count": 15,
      "outputs": [
        {
          "output_type": "stream",
          "name": "stdout",
          "text": [
            "Accuracy with min_samples_split=5: 1.0\n",
            "Accuracy with default tree: 1.0\n"
          ]
        }
      ]
    },
    {
      "cell_type": "code",
      "source": [
        "## solution 8:\n",
        "from sklearn.datasets import load_iris\n",
        "from sklearn.model_selection import train_test_split\n",
        "from sklearn.tree import DecisionTreeClassifier\n",
        "from sklearn.metrics import accuracy_score\n",
        "from sklearn.preprocessing import StandardScaler\n",
        "\n",
        "\n",
        "# Load the Iris dataset\n",
        "iris = load_iris()\n",
        "X, y = iris.data, iris.target\n",
        "\n",
        "\n",
        "# Split the dataset into training and testing sets\n",
        "X_train, X_test, y_train, y_test = train_test_split(X, y, test_size=0.3, random_state=42)\n",
        "\n",
        "\n",
        "# Scale the features using StandardScaler\n",
        "scaler = StandardScaler()\n",
        "X_train_scaled = scaler.fit_transform(X_train)\n",
        "X_test_scaled = scaler.transform(X_test)\n",
        "\n",
        "\n",
        "# Train a Decision Tree Classifier with scaled data\n",
        "dt_classifier_scaled = DecisionTreeClassifier(random_state=42)\n",
        "dt_classifier_scaled.fit(X_train_scaled, y_train)\n",
        "\n",
        "\n",
        "# Train a Decision Tree Classifier with unscaled data\n",
        "dt_classifier_unscaled = DecisionTreeClassifier(random_state=42)\n",
        "dt_classifier_unscaled.fit(X_train, y_train)\n",
        "\n",
        "\n",
        "# Make predictions on the test set\n",
        "y_pred_scaled = dt_classifier_scaled.predict(X_test_scaled)\n",
        "y_pred_unscaled = dt_classifier_unscaled.predict(X_test)\n",
        "\n",
        "\n",
        "# Calculate the accuracy of the models\n",
        "accuracy_scaled = accuracy_score(y_test, y_pred_scaled)\n",
        "accuracy_unscaled = accuracy_score(y_test, y_pred_unscaled)\n",
        "\n",
        "\n",
        "print(\"Accuracy with scaled data:\", accuracy_scaled)\n",
        "print(\"Accuracy with unscaled data:\", accuracy_unscaled)"
      ],
      "metadata": {
        "colab": {
          "base_uri": "https://localhost:8080/"
        },
        "id": "kUQ0juGM6PGf",
        "outputId": "1611a4a0-7249-484c-ba83-0b2d35e56274"
      },
      "execution_count": 16,
      "outputs": [
        {
          "output_type": "stream",
          "name": "stdout",
          "text": [
            "Accuracy with scaled data: 1.0\n",
            "Accuracy with unscaled data: 1.0\n"
          ]
        }
      ]
    },
    {
      "cell_type": "code",
      "source": [
        "## solution 9 :\n",
        "from sklearn.datasets import load_iris\n",
        "from sklearn.model_selection import train_test_split\n",
        "from sklearn.tree import DecisionTreeClassifier\n",
        "from sklearn.multiclass import OneVsRestClassifier\n",
        "from sklearn.metrics import accuracy_score\n",
        "\n",
        "\n",
        "# Load the Iris dataset\n",
        "iris = load_iris()\n",
        "X, y = iris.data, iris.target\n",
        "\n",
        "\n",
        "# Split the dataset into training and testing sets\n",
        "X_train, X_test, y_train, y_test = train_test_split(X, y, test_size=0.3, random_state=42)\n",
        "\n",
        "\n",
        "# Train a Decision Tree Classifier using One-vs-Rest strategy\n",
        "ovr_classifier = OneVsRestClassifier(DecisionTreeClassifier(random_state=42))\n",
        "ovr_classifier.fit(X_train, y_train)\n",
        "\n",
        "\n",
        "# Make predictions on the test set\n",
        "y_pred = ovr_classifier.predict(X_test)\n",
        "\n",
        "\n",
        "# Calculate the accuracy of the model\n",
        "accuracy = accuracy_score(y_test, y_pred)\n",
        "print(\"Accuracy:\", accuracy)"
      ],
      "metadata": {
        "colab": {
          "base_uri": "https://localhost:8080/"
        },
        "id": "S98IRlG16hNF",
        "outputId": "6389724a-ac63-4de5-aea4-fb744c80eb10"
      },
      "execution_count": 17,
      "outputs": [
        {
          "output_type": "stream",
          "name": "stdout",
          "text": [
            "Accuracy: 1.0\n"
          ]
        }
      ]
    },
    {
      "cell_type": "code",
      "source": [
        "## Solution 10.\n",
        "from sklearn.datasets import load_iris\n",
        "from sklearn.model_selection import train_test_split\n",
        "from sklearn.tree import DecisionTreeClassifier\n",
        "\n",
        "\n",
        "# Load the Iris dataset\n",
        "iris = load_iris()\n",
        "X, y = iris.data, iris.target\n",
        "\n",
        "\n",
        "# Split the dataset into training and testing sets\n",
        "X_train, X_test, y_train, y_test = train_test_split(X, y, test_size=0.3, random_state=42)\n",
        "\n",
        "\n",
        "# Train a Decision Tree Classifier\n",
        "dt_classifier = DecisionTreeClassifier(random_state=42)\n",
        "dt_classifier.fit(X_train, y_train)\n",
        "\n",
        "\n",
        "# Display the feature importance scores\n",
        "print(\"Feature Importance Scores:\", dt_classifier.feature_importances_)"
      ],
      "metadata": {
        "colab": {
          "base_uri": "https://localhost:8080/"
        },
        "id": "Ufh06oMV6xzr",
        "outputId": "72cac1e3-3f34-4667-8c99-d565015a9dc2"
      },
      "execution_count": 20,
      "outputs": [
        {
          "output_type": "stream",
          "name": "stdout",
          "text": [
            "Feature Importance Scores: [0.         0.01911002 0.89326355 0.08762643]\n"
          ]
        }
      ]
    },
    {
      "cell_type": "code",
      "source": [
        "# solution 11 :\n",
        "from sklearn.datasets import fetch_california_housing\n",
        "from sklearn.model_selection import train_test_split\n",
        "from sklearn.tree import DecisionTreeRegressor\n",
        "from sklearn.metrics import mean_squared_error\n",
        "\n",
        "\n",
        "# Load the California housing dataset\n",
        "housing = fetch_california_housing()\n",
        "X, y = housing.data, housing.target\n",
        "\n",
        "\n",
        "# Split the dataset into training and testing sets\n",
        "X_train, X_test, y_train, y_test = train_test_split(X, y, test_size=0.3, random_state=42)\n",
        "\n",
        "\n",
        "# Train a Decision Tree Regressor with max_depth=5\n",
        "dt_regressor_depth5 = DecisionTreeRegressor(max_depth=5, random_state=42)\n",
        "dt_regressor_depth5.fit(X_train, y_train)\n",
        "\n",
        "\n",
        "# Train an unrestricted Decision Tree Regressor\n",
        "dt_regressor_unrestricted = DecisionTreeRegressor(random_state=42)\n",
        "dt_regressor_unrestricted.fit(X_train, y_train)\n",
        "\n",
        "\n",
        "# Make predictions on the test set\n",
        "y_pred_depth5 = dt_regressor_depth5.predict(X_test)\n",
        "y_pred_unrestricted = dt_regressor_unrestricted.predict(X_test)\n",
        "\n",
        "\n",
        "# Calculate the Mean Squared Error (MSE)\n",
        "mse_depth5 = mean_squared_error(y_test, y_pred_depth5)\n",
        "mse_unrestricted = mean_squared_error(y_test, y_pred_unrestricted)\n",
        "\n",
        "\n",
        "print(\"Mean Squared Error (MSE) with max_depth=5:\", mse_depth5)\n",
        "print(\"Mean Squared Error (MSE) with unrestricted tree:\", mse_unrestricted)\n"
      ],
      "metadata": {
        "colab": {
          "base_uri": "https://localhost:8080/"
        },
        "id": "ZldSKirl7Tlm",
        "outputId": "e8251ac0-43d3-495e-b5bb-9042b0728112"
      },
      "execution_count": 22,
      "outputs": [
        {
          "output_type": "stream",
          "name": "stdout",
          "text": [
            "Mean Squared Error (MSE) with max_depth=5: 0.5210801561811793\n",
            "Mean Squared Error (MSE) with unrestricted tree: 0.5280096503174904\n"
          ]
        }
      ]
    },
    {
      "cell_type": "code",
      "source": [
        "## solution 12 :\n",
        "from sklearn.datasets import load_iris\n",
        "from sklearn.model_selection import train_test_split\n",
        "from sklearn.tree import DecisionTreeClassifier\n",
        "from sklearn.metrics import accuracy_score\n",
        "import matplotlib.pyplot as plt\n",
        "\n",
        "\n",
        "# Load the Iris dataset\n",
        "iris = load_iris()\n",
        "X, y = iris.data, iris.target\n",
        "\n",
        "\n",
        "# Split the dataset into training and testing sets\n",
        "X_train, X_test, y_train, y_test = train_test_split(X, y, test_size=0.3, random_state=42)\n",
        "\n",
        "\n",
        "# Train a Decision Tree Classifier\n",
        "dt_classifier = DecisionTreeClassifier(random_state=42)\n",
        "path = dt_classifier.cost_complexity_pruning_path(X_train, y_train)\n",
        "ccp_alphas, impurities = path.ccp_alphas, path.impurities\n",
        "\n",
        "\n",
        "# Train the tree using different alpha values\n",
        "clfs = []\n",
        "for ccp_alpha in ccp_alphas:\n",
        " clf = DecisionTreeClassifier(random_state=42, ccp_alpha=ccp_alpha)\n",
        " clf.fit(X_train, y_train)\n",
        " clfs.append(clf)\n",
        "\n",
        "\n",
        "# Evaluate the accuracy of each tree\n",
        "accuracy_scores = [accuracy_score(y_test, clf.predict(X_test)) for clf in clfs]\n",
        "\n",
        "\n",
        "# Plot the effect of CCP on accuracy\n",
        "plt.figure(figsize=(10, 6))\n",
        "plt.plot(ccp_alphas, accuracy_scores, marker='o', drawstyle=\"steps-post\")\n",
        "plt.xlabel(\"CCP Alpha\")\n",
        "plt.ylabel(\"Accuracy\")\n",
        "plt.title(\"Effect of Cost Complexity Pruning on Accuracy\")\n",
        "plt.grid(True)\n",
        "plt.show()"
      ],
      "metadata": {
        "colab": {
          "base_uri": "https://localhost:8080/",
          "height": 564
        },
        "id": "_d3vG2jh7l4i",
        "outputId": "f19cf72b-e84b-415b-d0f2-1fc86079b1bc"
      },
      "execution_count": 24,
      "outputs": [
        {
          "output_type": "display_data",
          "data": {
            "text/plain": [
              "<Figure size 1000x600 with 1 Axes>"
            ],
            "image/png": "[encoded data removed]"
          },
          "metadata": {}
        }
      ]
    },
    {
      "cell_type": "code",
      "source": [
        "## solution 13 :\n",
        "\n",
        "\n",
        "from sklearn.datasets import load_iris\n",
        "from sklearn.model_selection import train_test_split\n",
        "from sklearn.tree import DecisionTreeClassifier\n",
        "from sklearn.metrics import precision_score, recall_score, f1_score\n",
        "\n",
        "\n",
        "# Load the Iris dataset\n",
        "iris = load_iris()\n",
        "X, y = iris.data, iris.target\n",
        "\n",
        "\n",
        "# Split the dataset into training and testing sets\n",
        "X_train, X_test, y_train, y_test = train_test_split(X, y, test_size=0.3, random_state=42)\n",
        "\n",
        "\n",
        "# Train a Decision Tree Classifier\n",
        "dt_classifier = DecisionTreeClassifier(random_state=42)\n",
        "dt_classifier.fit(X_train, y_train)\n",
        "\n",
        "\n",
        "# Make predictions on the test set\n",
        "y_pred = dt_classifier.predict(X_test)\n",
        "\n",
        "\n",
        "# Calculate Precision, Recall, and F1-Score\n",
        "precision = precision_score(y_test, y_pred, average='weighted')\n",
        "recall = recall_score(y_test, y_pred, average='weighted')\n",
        "f1 = f1_score(y_test, y_pred, average='weighted')\n",
        "\n",
        "\n",
        "print(\"Precision:\", precision)\n",
        "print(\"Recall:\", recall)\n",
        "print(\"F1-Score:\", f1)"
      ],
      "metadata": {
        "colab": {
          "base_uri": "https://localhost:8080/"
        },
        "id": "Y-ahUUKO73As",
        "outputId": "07eceedd-0f94-48d6-adec-3a6f94f17ef9"
      },
      "execution_count": 25,
      "outputs": [
        {
          "output_type": "stream",
          "name": "stdout",
          "text": [
            "Precision: 1.0\n",
            "Recall: 1.0\n",
            "F1-Score: 1.0\n"
          ]
        }
      ]
    },
    {
      "cell_type": "code",
      "source": [
        "## solution 14\n",
        "from sklearn.datasets import load_iris\n",
        "from sklearn.model_selection import train_test_split\n",
        "from sklearn.tree import DecisionTreeClassifier\n",
        "from sklearn.metrics import confusion_matrix\n",
        "import seaborn as sns\n",
        "import matplotlib.pyplot as plt\n",
        "\n",
        "\n",
        "# Load the Iris dataset\n",
        "iris = load_iris()\n",
        "X, y = iris.data, iris.target\n",
        "\n",
        "\n",
        "# Split the dataset into training and testing sets\n",
        "X_train, X_test, y_train, y_test = train_test_split(X, y, test_size=0.3, random_state=42)\n",
        "\n",
        "\n",
        "# Train a Decision Tree Classifier\n",
        "dt_classifier = DecisionTreeClassifier(random_state=42)\n",
        "dt_classifier.fit(X_train, y_train)\n",
        "\n",
        "\n",
        "# Make predictions on the test set\n",
        "y_pred = dt_classifier.predict(X_test)\n",
        "\n",
        "\n",
        "# Calculate the confusion matrix\n",
        "cm = confusion_matrix(y_test, y_pred)\n",
        "\n",
        "\n",
        "# Visualize the confusion matrix using seaborn\n",
        "plt.figure(figsize=(8, 6))\n",
        "sns.heatmap(cm, annot=True, fmt=\"d\", cmap=\"Blues\", xticklabels=iris.target_names, yticklabels=iris.target_names)\n",
        "plt.xlabel(\"Predicted Labels\")\n",
        "plt.ylabel(\"True Labels\")\n",
        "plt.title(\"Confusion Matrix\")\n",
        "plt.show()"
      ],
      "metadata": {
        "colab": {
          "base_uri": "https://localhost:8080/",
          "height": 564
        },
        "id": "4bKJRNKN8GMC",
        "outputId": "0a2a607e-9f9c-4a69-d960-9b4eba75f798"
      },
      "execution_count": 27,
      "outputs": [
        {
          "output_type": "display_data",
          "data": {
            "text/plain": [
              "<Figure size 800x600 with 2 Axes>"
            ],
            "image/png": "[encoded data removed]"
          },
          "metadata": {}
        }
      ]
    },
    {
      "cell_type": "code",
      "source": [
        "## solution 15\n",
        "# 30. Write a Python program to train a Decision Tree Classifier and use GridSearchCV to find the optimal values for max depth and min_samples_split.\n",
        "\n",
        "\n",
        "from sklearn.datasets import load_iris\n",
        "from sklearn.model_selection import train_test_split, GridSearchCV\n",
        "from sklearn.tree import DecisionTreeClassifier\n",
        "\n",
        "\n",
        "# Load the Iris dataset\n",
        "iris = load_iris()\n",
        "X, y = iris.data, iris.target\n",
        "\n",
        "\n",
        "# Split the dataset into training and testing sets\n",
        "X_train, X_test, y_train, y_test = train_test_split(X, y, test_size=0.3, random_state=42)\n",
        "\n",
        "\n",
        "# Define the parameter grid\n",
        "param_grid = {\n",
        " 'max_depth': [3, 5, 7, None],\n",
        " 'min_samples_split': [2, 5, 10]\n",
        "}\n",
        "\n",
        "\n",
        "# Train a Decision Tree Classifier using GridSearchCV\n",
        "dt_classifier = DecisionTreeClassifier(random_state=42)\n",
        "grid_search = GridSearchCV(dt_classifier, param_grid, cv=5, scoring='accuracy')\n",
        "grid_search.fit(X_train, y_train)\n",
        "\n",
        "\n",
        "# Print the best parameters and the best score\n",
        "print(\"Best Parameters:\", grid_search.best_params_)\n",
        "print(\"Best Score:\", grid_search.best_score_)"
      ],
      "metadata": {
        "colab": {
          "base_uri": "https://localhost:8080/"
        },
        "id": "P9Ql8spo8Upl",
        "outputId": "1f1c4d13-d48a-4613-95d2-f16feba7c6db"
      },
      "execution_count": 28,
      "outputs": [
        {
          "output_type": "stream",
          "name": "stdout",
          "text": [
            "Best Parameters: {'max_depth': 5, 'min_samples_split': 10}\n",
            "Best Score: 0.9428571428571428\n"
          ]
        }
      ]
    }
  ]
}